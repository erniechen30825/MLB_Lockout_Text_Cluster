{
 "cells": [
  {
   "cell_type": "markdown",
   "metadata": {},
   "source": [
    "# 0. Importing libraries"
   ]
  },
  {
   "cell_type": "code",
   "execution_count": 1,
   "metadata": {},
   "outputs": [],
   "source": [
    "import pandas as pd\n",
    "import re\n",
    "import sys\n",
    "import nltk\n",
    "from nltk.corpus import stopwords\n",
    "from os import listdir,path\n"
   ]
  },
  {
   "cell_type": "code",
   "execution_count": 2,
   "metadata": {},
   "outputs": [],
   "source": [
    "#self defined functions\n",
    "sys.path.insert(0, \"../functions\")\n",
    "# from data_cleaning import remove_punctuations_urls, retrieve_hashtag\n",
    "import data_cleaning as dc\n"
   ]
  },
  {
   "cell_type": "markdown",
   "metadata": {},
   "source": [
    "# 1. Reading data"
   ]
  },
  {
   "cell_type": "code",
   "execution_count": 3,
   "metadata": {},
   "outputs": [],
   "source": [
    "mlb = []\n",
    "for file in listdir(\"../data\"):\n",
    "    df = pd.read_csv(path.join(\"../data\",file))\n",
    "    mlb.append(df)"
   ]
  },
  {
   "cell_type": "code",
   "execution_count": 4,
   "metadata": {},
   "outputs": [
    {
     "data": {
      "text/html": [
       "<div>\n",
       "<style scoped>\n",
       "    .dataframe tbody tr th:only-of-type {\n",
       "        vertical-align: middle;\n",
       "    }\n",
       "\n",
       "    .dataframe tbody tr th {\n",
       "        vertical-align: top;\n",
       "    }\n",
       "\n",
       "    .dataframe thead th {\n",
       "        text-align: right;\n",
       "    }\n",
       "</style>\n",
       "<table border=\"1\" class=\"dataframe\">\n",
       "  <thead>\n",
       "    <tr style=\"text-align: right;\">\n",
       "      <th></th>\n",
       "      <th>Datetime</th>\n",
       "      <th>Tweet Id</th>\n",
       "      <th>Text</th>\n",
       "      <th>Username</th>\n",
       "      <th>Reply Count</th>\n",
       "      <th>Retweet Count</th>\n",
       "      <th>Like Count</th>\n",
       "      <th>tweetquote Count</th>\n",
       "      <th>conversation ID</th>\n",
       "      <th>source</th>\n",
       "      <th>retweeted Tweet</th>\n",
       "      <th>quotedTweet</th>\n",
       "      <th>mentioned Users</th>\n",
       "      <th>language</th>\n",
       "    </tr>\n",
       "  </thead>\n",
       "  <tbody>\n",
       "    <tr>\n",
       "      <th>0</th>\n",
       "      <td>2021-12-30 23:59:47+00:00</td>\n",
       "      <td>1476704601424465921</td>\n",
       "      <td>That's is if we're allowed #Baseball ever agai...</td>\n",
       "      <td>LittlePickles9</td>\n",
       "      <td>0</td>\n",
       "      <td>0</td>\n",
       "      <td>0</td>\n",
       "      <td>0</td>\n",
       "      <td>1476704601424465921</td>\n",
       "      <td>&lt;a href=\"http://twitter.com/download/android\" ...</td>\n",
       "      <td>NaN</td>\n",
       "      <td>https://twitter.com/LittlePickles9/status/1476...</td>\n",
       "      <td>NaN</td>\n",
       "      <td>en</td>\n",
       "    </tr>\n",
       "    <tr>\n",
       "      <th>1</th>\n",
       "      <td>2021-12-30 23:54:30+00:00</td>\n",
       "      <td>1476703271221878793</td>\n",
       "      <td>Joining @RR_RicardoFAN next is @dcone36 to dis...</td>\n",
       "      <td>CBSSportsRadio</td>\n",
       "      <td>0</td>\n",
       "      <td>2</td>\n",
       "      <td>6</td>\n",
       "      <td>0</td>\n",
       "      <td>1476703271221878793</td>\n",
       "      <td>&lt;a href=\"https://mobile.twitter.com\" rel=\"nofo...</td>\n",
       "      <td>NaN</td>\n",
       "      <td>NaN</td>\n",
       "      <td>[User(username='RR_RicardoFAN', id=23912945, d...</td>\n",
       "      <td>en</td>\n",
       "    </tr>\n",
       "    <tr>\n",
       "      <th>2</th>\n",
       "      <td>2021-12-30 23:34:26+00:00</td>\n",
       "      <td>1476698220176814081</td>\n",
       "      <td>When do you think the MLB Lockout is over?</td>\n",
       "      <td>NYYSportsfan96</td>\n",
       "      <td>0</td>\n",
       "      <td>0</td>\n",
       "      <td>0</td>\n",
       "      <td>0</td>\n",
       "      <td>1476698220176814081</td>\n",
       "      <td>&lt;a href=\"https://mobile.twitter.com\" rel=\"nofo...</td>\n",
       "      <td>NaN</td>\n",
       "      <td>NaN</td>\n",
       "      <td>NaN</td>\n",
       "      <td>en</td>\n",
       "    </tr>\n",
       "    <tr>\n",
       "      <th>3</th>\n",
       "      <td>2021-12-30 23:24:16+00:00</td>\n",
       "      <td>1476695662930501633</td>\n",
       "      <td>WHEN IS THE MLB LOCKOUT GOING TO BE OVER ‼️‼️‼...</td>\n",
       "      <td>itstitoo_</td>\n",
       "      <td>0</td>\n",
       "      <td>0</td>\n",
       "      <td>0</td>\n",
       "      <td>0</td>\n",
       "      <td>1476695662930501633</td>\n",
       "      <td>&lt;a href=\"http://twitter.com/download/android\" ...</td>\n",
       "      <td>NaN</td>\n",
       "      <td>NaN</td>\n",
       "      <td>NaN</td>\n",
       "      <td>en</td>\n",
       "    </tr>\n",
       "    <tr>\n",
       "      <th>4</th>\n",
       "      <td>2021-12-30 23:20:33+00:00</td>\n",
       "      <td>1476694729270071302</td>\n",
       "      <td>MLB lockout mailbag: Major sticking points, po...</td>\n",
       "      <td>JenniferHeiner_</td>\n",
       "      <td>0</td>\n",
       "      <td>0</td>\n",
       "      <td>0</td>\n",
       "      <td>0</td>\n",
       "      <td>1476694729270071302</td>\n",
       "      <td>&lt;a href=\"https://dlvrit.com/\" rel=\"nofollow\"&gt;d...</td>\n",
       "      <td>NaN</td>\n",
       "      <td>NaN</td>\n",
       "      <td>NaN</td>\n",
       "      <td>en</td>\n",
       "    </tr>\n",
       "  </tbody>\n",
       "</table>\n",
       "</div>"
      ],
      "text/plain": [
       "                    Datetime             Tweet Id  \\\n",
       "0  2021-12-30 23:59:47+00:00  1476704601424465921   \n",
       "1  2021-12-30 23:54:30+00:00  1476703271221878793   \n",
       "2  2021-12-30 23:34:26+00:00  1476698220176814081   \n",
       "3  2021-12-30 23:24:16+00:00  1476695662930501633   \n",
       "4  2021-12-30 23:20:33+00:00  1476694729270071302   \n",
       "\n",
       "                                                Text         Username  \\\n",
       "0  That's is if we're allowed #Baseball ever agai...   LittlePickles9   \n",
       "1  Joining @RR_RicardoFAN next is @dcone36 to dis...   CBSSportsRadio   \n",
       "2         When do you think the MLB Lockout is over?   NYYSportsfan96   \n",
       "3  WHEN IS THE MLB LOCKOUT GOING TO BE OVER ‼️‼️‼...        itstitoo_   \n",
       "4  MLB lockout mailbag: Major sticking points, po...  JenniferHeiner_   \n",
       "\n",
       "   Reply Count  Retweet Count  Like Count  tweetquote Count  \\\n",
       "0            0              0           0                 0   \n",
       "1            0              2           6                 0   \n",
       "2            0              0           0                 0   \n",
       "3            0              0           0                 0   \n",
       "4            0              0           0                 0   \n",
       "\n",
       "       conversation ID                                             source  \\\n",
       "0  1476704601424465921  <a href=\"http://twitter.com/download/android\" ...   \n",
       "1  1476703271221878793  <a href=\"https://mobile.twitter.com\" rel=\"nofo...   \n",
       "2  1476698220176814081  <a href=\"https://mobile.twitter.com\" rel=\"nofo...   \n",
       "3  1476695662930501633  <a href=\"http://twitter.com/download/android\" ...   \n",
       "4  1476694729270071302  <a href=\"https://dlvrit.com/\" rel=\"nofollow\">d...   \n",
       "\n",
       "   retweeted Tweet                                        quotedTweet  \\\n",
       "0              NaN  https://twitter.com/LittlePickles9/status/1476...   \n",
       "1              NaN                                                NaN   \n",
       "2              NaN                                                NaN   \n",
       "3              NaN                                                NaN   \n",
       "4              NaN                                                NaN   \n",
       "\n",
       "                                     mentioned Users language  \n",
       "0                                                NaN       en  \n",
       "1  [User(username='RR_RicardoFAN', id=23912945, d...       en  \n",
       "2                                                NaN       en  \n",
       "3                                                NaN       en  \n",
       "4                                                NaN       en  "
      ]
     },
     "execution_count": 4,
     "metadata": {},
     "output_type": "execute_result"
    }
   ],
   "source": [
    "mlb[0].head()"
   ]
  },
  {
   "cell_type": "markdown",
   "metadata": {},
   "source": [
    "# 2. Tidying the data"
   ]
  },
  {
   "cell_type": "markdown",
   "metadata": {},
   "source": [
    "## 2.1 Limiting to only english tweets"
   ]
  },
  {
   "cell_type": "code",
   "execution_count": 5,
   "metadata": {},
   "outputs": [],
   "source": [
    "eng_only = []\n",
    "for df in mlb:\n",
    "    eng_only.append(df[df.language == \"en\"])"
   ]
  },
  {
   "cell_type": "markdown",
   "metadata": {},
   "source": [
    "## 2.2 Focusing on only text"
   ]
  },
  {
   "cell_type": "code",
   "execution_count": 6,
   "metadata": {},
   "outputs": [],
   "source": [
    "texts = []\n",
    "for month in eng_only:\n",
    "    texts += [text for text in month.Text]"
   ]
  },
  {
   "cell_type": "code",
   "execution_count": 7,
   "metadata": {},
   "outputs": [
    {
     "data": {
      "text/plain": [
       "41243"
      ]
     },
     "execution_count": 7,
     "metadata": {},
     "output_type": "execute_result"
    }
   ],
   "source": [
    "len(texts)"
   ]
  },
  {
   "cell_type": "code",
   "execution_count": 8,
   "metadata": {},
   "outputs": [
    {
     "data": {
      "text/plain": [
       "'Joining @RR_RicardoFAN next is @dcone36 to discuss when the MLB lockout needs to end to get the season started on time, get his reaction to a few offseason signings &amp; more!\\n\\nListen Live: https://t.co/d1K0UWkr6D https://t.co/98wvhsGnZN'"
      ]
     },
     "execution_count": 8,
     "metadata": {},
     "output_type": "execute_result"
    }
   ],
   "source": [
    "eng_only[0].iloc[1].Text"
   ]
  },
  {
   "cell_type": "markdown",
   "metadata": {},
   "source": [
    "## 2.3 tidy text"
   ]
  },
  {
   "cell_type": "markdown",
   "metadata": {},
   "source": [
    "1. Transform all text to lower case\n",
    "2. Remove urls and punctuation marks \n",
    "3. Remove stop words\n",
    "4. Change text into (set) vectors of words"
   ]
  },
  {
   "cell_type": "markdown",
   "metadata": {},
   "source": [
    "### 2.3.1 Text to lower case"
   ]
  },
  {
   "cell_type": "code",
   "execution_count": 9,
   "metadata": {},
   "outputs": [],
   "source": [
    "lower_case_text = [text.lower() for text in texts]"
   ]
  },
  {
   "cell_type": "markdown",
   "metadata": {},
   "source": [
    "### 2.3.2 Remove punctuations and url"
   ]
  },
  {
   "cell_type": "code",
   "execution_count": 10,
   "metadata": {},
   "outputs": [],
   "source": [
    "hashtags = [dc.retrieve_hashtag(text) for text in lower_case_text]\n",
    "mentions = [dc.retrieve_mentions(text) for text in lower_case_text]\n"
   ]
  },
  {
   "cell_type": "code",
   "execution_count": 11,
   "metadata": {},
   "outputs": [],
   "source": [
    "no_punctuations = [dc.remove_punctuations_urls(text) for text in lower_case_text]\n"
   ]
  },
  {
   "cell_type": "code",
   "execution_count": 12,
   "metadata": {},
   "outputs": [
    {
     "data": {
      "text/plain": [
       "[\"that's is if we're allowed #baseball ever again #mlb #lockout  \",\n",
       " 'joining @rr_ricardofan next is @dcone36 to discuss when the mlb lockout needs to end to get the season started on time  get his reaction to a few offseason signings   more listen live     ',\n",
       " 'when do you think the mlb lockout is over ',\n",
       " 'when is the mlb lockout going to be over    ',\n",
       " 'mlb lockout mailbag  major sticking points  potential spring training delays  minor league players and more  ']"
      ]
     },
     "execution_count": 12,
     "metadata": {},
     "output_type": "execute_result"
    }
   ],
   "source": [
    "no_punctuations[:5]"
   ]
  },
  {
   "cell_type": "markdown",
   "metadata": {},
   "source": [
    "### 2.3.3 Removing Stop Words"
   ]
  },
  {
   "cell_type": "code",
   "execution_count": 15,
   "metadata": {},
   "outputs": [
    {
     "data": {
      "text/plain": [
       "\"that's is if we're allowed #baseball ever again #mlb #lockout  \""
      ]
     },
     "execution_count": 15,
     "metadata": {},
     "output_type": "execute_result"
    }
   ],
   "source": [
    "no_punctuations[0]\n"
   ]
  },
  {
   "cell_type": "code",
   "execution_count": 16,
   "metadata": {},
   "outputs": [],
   "source": [
    "from nltk.corpus import stopwords\n",
    "stop = stopwords.words('english')"
   ]
  },
  {
   "cell_type": "code",
   "execution_count": 19,
   "metadata": {},
   "outputs": [
    {
     "data": {
      "text/plain": [
       "True"
      ]
     },
     "execution_count": 19,
     "metadata": {},
     "output_type": "execute_result"
    }
   ],
   "source": [
    "\"that\" in stop"
   ]
  },
  {
   "cell_type": "code",
   "execution_count": 14,
   "metadata": {},
   "outputs": [
    {
     "data": {
      "text/plain": [
       "\"that's we're allowed #baseball ever #mlb #lockout\""
      ]
     },
     "execution_count": 14,
     "metadata": {},
     "output_type": "execute_result"
    }
   ],
   "source": [
    "dc.remove_stopwords(no_punctuations[0])"
   ]
  }
 ],
 "metadata": {
  "interpreter": {
   "hash": "a75188dc68140c4ae572726a6a72cb51eeeeac5b07356032e4f35544098a9a27"
  },
  "kernelspec": {
   "display_name": "Python 3.8.5 ('base')",
   "language": "python",
   "name": "python3"
  },
  "language_info": {
   "codemirror_mode": {
    "name": "ipython",
    "version": 3
   },
   "file_extension": ".py",
   "mimetype": "text/x-python",
   "name": "python",
   "nbconvert_exporter": "python",
   "pygments_lexer": "ipython3",
   "version": "3.8.5"
  },
  "orig_nbformat": 4
 },
 "nbformat": 4,
 "nbformat_minor": 2
}
