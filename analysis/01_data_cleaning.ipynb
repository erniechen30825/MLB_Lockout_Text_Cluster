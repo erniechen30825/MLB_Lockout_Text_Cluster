{
 "cells": [
  {
   "cell_type": "markdown",
   "metadata": {},
   "source": [
    "# 0. Importing libraries"
   ]
  },
  {
   "cell_type": "code",
   "execution_count": 19,
   "metadata": {},
   "outputs": [],
   "source": [
    "import sys\n",
    "import pandas as pd\n",
    "from os import listdir,path"
   ]
  },
  {
   "cell_type": "code",
   "execution_count": 10,
   "metadata": {},
   "outputs": [],
   "source": [
    "#self defined functions\n",
    "sys.path.insert(0, \"../functions\")\n",
    "from  data_cleaning import test\n"
   ]
  },
  {
   "cell_type": "markdown",
   "metadata": {},
   "source": [
    "# 1. Reading data"
   ]
  },
  {
   "cell_type": "code",
   "execution_count": 21,
   "metadata": {},
   "outputs": [],
   "source": [
    "mlb = []\n",
    "for file in listdir(\"../data\"):\n",
    "    df = pd.read_csv(path.join(\"../data\",file))\n",
    "    mlb.append(df)"
   ]
  },
  {
   "cell_type": "code",
   "execution_count": 31,
   "metadata": {},
   "outputs": [
    {
     "data": {
      "text/html": [
       "<div>\n",
       "<style scoped>\n",
       "    .dataframe tbody tr th:only-of-type {\n",
       "        vertical-align: middle;\n",
       "    }\n",
       "\n",
       "    .dataframe tbody tr th {\n",
       "        vertical-align: top;\n",
       "    }\n",
       "\n",
       "    .dataframe thead th {\n",
       "        text-align: right;\n",
       "    }\n",
       "</style>\n",
       "<table border=\"1\" class=\"dataframe\">\n",
       "  <thead>\n",
       "    <tr style=\"text-align: right;\">\n",
       "      <th></th>\n",
       "      <th>Datetime</th>\n",
       "      <th>Tweet Id</th>\n",
       "      <th>Text</th>\n",
       "      <th>Username</th>\n",
       "      <th>Reply Count</th>\n",
       "      <th>Retweet Count</th>\n",
       "      <th>Like Count</th>\n",
       "      <th>tweetquote Count</th>\n",
       "      <th>conversation ID</th>\n",
       "      <th>source</th>\n",
       "      <th>retweeted Tweet</th>\n",
       "      <th>quotedTweet</th>\n",
       "      <th>mentioned Users</th>\n",
       "    </tr>\n",
       "  </thead>\n",
       "  <tbody>\n",
       "    <tr>\n",
       "      <th>0</th>\n",
       "      <td>2021-12-30 23:59:47+00:00</td>\n",
       "      <td>1476704601424465921</td>\n",
       "      <td>That's is if we're allowed #Baseball ever agai...</td>\n",
       "      <td>LittlePickles9</td>\n",
       "      <td>0</td>\n",
       "      <td>0</td>\n",
       "      <td>0</td>\n",
       "      <td>0</td>\n",
       "      <td>1476704601424465921</td>\n",
       "      <td>&lt;a href=\"http://twitter.com/download/android\" ...</td>\n",
       "      <td>NaN</td>\n",
       "      <td>https://twitter.com/LittlePickles9/status/1476...</td>\n",
       "      <td>NaN</td>\n",
       "    </tr>\n",
       "    <tr>\n",
       "      <th>1</th>\n",
       "      <td>2021-12-30 23:54:30+00:00</td>\n",
       "      <td>1476703271221878793</td>\n",
       "      <td>Joining @RR_RicardoFAN next is @dcone36 to dis...</td>\n",
       "      <td>CBSSportsRadio</td>\n",
       "      <td>0</td>\n",
       "      <td>2</td>\n",
       "      <td>6</td>\n",
       "      <td>0</td>\n",
       "      <td>1476703271221878793</td>\n",
       "      <td>&lt;a href=\"https://mobile.twitter.com\" rel=\"nofo...</td>\n",
       "      <td>NaN</td>\n",
       "      <td>NaN</td>\n",
       "      <td>[User(username='RR_RicardoFAN', id=23912945, d...</td>\n",
       "    </tr>\n",
       "    <tr>\n",
       "      <th>2</th>\n",
       "      <td>2021-12-30 23:34:26+00:00</td>\n",
       "      <td>1476698220176814081</td>\n",
       "      <td>When do you think the MLB Lockout is over?</td>\n",
       "      <td>NYYSportsfan96</td>\n",
       "      <td>0</td>\n",
       "      <td>0</td>\n",
       "      <td>0</td>\n",
       "      <td>0</td>\n",
       "      <td>1476698220176814081</td>\n",
       "      <td>&lt;a href=\"https://mobile.twitter.com\" rel=\"nofo...</td>\n",
       "      <td>NaN</td>\n",
       "      <td>NaN</td>\n",
       "      <td>NaN</td>\n",
       "    </tr>\n",
       "    <tr>\n",
       "      <th>3</th>\n",
       "      <td>2021-12-30 23:24:16+00:00</td>\n",
       "      <td>1476695662930501633</td>\n",
       "      <td>WHEN IS THE MLB LOCKOUT GOING TO BE OVER ‼️‼️‼...</td>\n",
       "      <td>itstitoo_</td>\n",
       "      <td>0</td>\n",
       "      <td>0</td>\n",
       "      <td>0</td>\n",
       "      <td>0</td>\n",
       "      <td>1476695662930501633</td>\n",
       "      <td>&lt;a href=\"http://twitter.com/download/android\" ...</td>\n",
       "      <td>NaN</td>\n",
       "      <td>NaN</td>\n",
       "      <td>NaN</td>\n",
       "    </tr>\n",
       "    <tr>\n",
       "      <th>4</th>\n",
       "      <td>2021-12-30 23:20:33+00:00</td>\n",
       "      <td>1476694729270071302</td>\n",
       "      <td>MLB lockout mailbag: Major sticking points, po...</td>\n",
       "      <td>JenniferHeiner_</td>\n",
       "      <td>0</td>\n",
       "      <td>0</td>\n",
       "      <td>0</td>\n",
       "      <td>0</td>\n",
       "      <td>1476694729270071302</td>\n",
       "      <td>&lt;a href=\"https://dlvrit.com/\" rel=\"nofollow\"&gt;d...</td>\n",
       "      <td>NaN</td>\n",
       "      <td>NaN</td>\n",
       "      <td>NaN</td>\n",
       "    </tr>\n",
       "  </tbody>\n",
       "</table>\n",
       "</div>"
      ],
      "text/plain": [
       "                    Datetime             Tweet Id  \\\n",
       "0  2021-12-30 23:59:47+00:00  1476704601424465921   \n",
       "1  2021-12-30 23:54:30+00:00  1476703271221878793   \n",
       "2  2021-12-30 23:34:26+00:00  1476698220176814081   \n",
       "3  2021-12-30 23:24:16+00:00  1476695662930501633   \n",
       "4  2021-12-30 23:20:33+00:00  1476694729270071302   \n",
       "\n",
       "                                                Text         Username  \\\n",
       "0  That's is if we're allowed #Baseball ever agai...   LittlePickles9   \n",
       "1  Joining @RR_RicardoFAN next is @dcone36 to dis...   CBSSportsRadio   \n",
       "2         When do you think the MLB Lockout is over?   NYYSportsfan96   \n",
       "3  WHEN IS THE MLB LOCKOUT GOING TO BE OVER ‼️‼️‼...        itstitoo_   \n",
       "4  MLB lockout mailbag: Major sticking points, po...  JenniferHeiner_   \n",
       "\n",
       "   Reply Count  Retweet Count  Like Count  tweetquote Count  \\\n",
       "0            0              0           0                 0   \n",
       "1            0              2           6                 0   \n",
       "2            0              0           0                 0   \n",
       "3            0              0           0                 0   \n",
       "4            0              0           0                 0   \n",
       "\n",
       "       conversation ID                                             source  \\\n",
       "0  1476704601424465921  <a href=\"http://twitter.com/download/android\" ...   \n",
       "1  1476703271221878793  <a href=\"https://mobile.twitter.com\" rel=\"nofo...   \n",
       "2  1476698220176814081  <a href=\"https://mobile.twitter.com\" rel=\"nofo...   \n",
       "3  1476695662930501633  <a href=\"http://twitter.com/download/android\" ...   \n",
       "4  1476694729270071302  <a href=\"https://dlvrit.com/\" rel=\"nofollow\">d...   \n",
       "\n",
       "   retweeted Tweet                                        quotedTweet  \\\n",
       "0              NaN  https://twitter.com/LittlePickles9/status/1476...   \n",
       "1              NaN                                                NaN   \n",
       "2              NaN                                                NaN   \n",
       "3              NaN                                                NaN   \n",
       "4              NaN                                                NaN   \n",
       "\n",
       "                                     mentioned Users  \n",
       "0                                                NaN  \n",
       "1  [User(username='RR_RicardoFAN', id=23912945, d...  \n",
       "2                                                NaN  \n",
       "3                                                NaN  \n",
       "4                                                NaN  "
      ]
     },
     "execution_count": 31,
     "metadata": {},
     "output_type": "execute_result"
    }
   ],
   "source": [
    "mlb[0].head()"
   ]
  },
  {
   "cell_type": "markdown",
   "metadata": {},
   "source": [
    "# 2. Tidying the data"
   ]
  },
  {
   "cell_type": "markdown",
   "metadata": {},
   "source": [
    "## Focusing on only text"
   ]
  },
  {
   "cell_type": "code",
   "execution_count": 42,
   "metadata": {},
   "outputs": [],
   "source": [
    "texts = []\n",
    "for month in mlb:\n",
    "    texts += [text for text in month.Text]"
   ]
  },
  {
   "cell_type": "markdown",
   "metadata": {},
   "source": [
    "## sfa"
   ]
  }
 ],
 "metadata": {
  "interpreter": {
   "hash": "a75188dc68140c4ae572726a6a72cb51eeeeac5b07356032e4f35544098a9a27"
  },
  "kernelspec": {
   "display_name": "Python 3.8.5 ('base')",
   "language": "python",
   "name": "python3"
  },
  "language_info": {
   "codemirror_mode": {
    "name": "ipython",
    "version": 3
   },
   "file_extension": ".py",
   "mimetype": "text/x-python",
   "name": "python",
   "nbconvert_exporter": "python",
   "pygments_lexer": "ipython3",
   "version": "3.8.5"
  },
  "orig_nbformat": 4
 },
 "nbformat": 4,
 "nbformat_minor": 2
}
