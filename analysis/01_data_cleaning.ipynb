{
 "cells": [
  {
   "cell_type": "markdown",
   "metadata": {},
   "source": [
    "# 0. Importing libraries"
   ]
  },
  {
   "cell_type": "code",
   "execution_count": 124,
   "metadata": {},
   "outputs": [],
   "source": [
    "import pandas as pd\n",
    "import sys\n",
    "from os import listdir,path\n"
   ]
  },
  {
   "cell_type": "code",
   "execution_count": 125,
   "metadata": {},
   "outputs": [],
   "source": [
    "#self defined functions\n",
    "sys.path.insert(0, \"../functions\")\n",
    "# from data_cleaning import remove_punctuations_urls, retrieve_hashtag\n",
    "import data_cleaning as dc\n"
   ]
  },
  {
   "cell_type": "markdown",
   "metadata": {},
   "source": [
    "# 1. Reading data"
   ]
  },
  {
   "cell_type": "code",
   "execution_count": 126,
   "metadata": {},
   "outputs": [],
   "source": [
    "mlb = []\n",
    "for file in listdir(\"../data\"):\n",
    "    if \"twitter_MLB_202\" in file:\n",
    "        df = pd.read_csv(path.join(\"../data\",file))\n",
    "        mlb.append(df)"
   ]
  },
  {
   "cell_type": "code",
   "execution_count": 127,
   "metadata": {},
   "outputs": [
    {
     "data": {
      "text/html": [
       "<div>\n",
       "<style scoped>\n",
       "    .dataframe tbody tr th:only-of-type {\n",
       "        vertical-align: middle;\n",
       "    }\n",
       "\n",
       "    .dataframe tbody tr th {\n",
       "        vertical-align: top;\n",
       "    }\n",
       "\n",
       "    .dataframe thead th {\n",
       "        text-align: right;\n",
       "    }\n",
       "</style>\n",
       "<table border=\"1\" class=\"dataframe\">\n",
       "  <thead>\n",
       "    <tr style=\"text-align: right;\">\n",
       "      <th></th>\n",
       "      <th>Datetime</th>\n",
       "      <th>Tweet Id</th>\n",
       "      <th>Text</th>\n",
       "      <th>Username</th>\n",
       "      <th>Reply Count</th>\n",
       "      <th>Retweet Count</th>\n",
       "      <th>Like Count</th>\n",
       "      <th>tweetquote Count</th>\n",
       "      <th>conversation ID</th>\n",
       "      <th>source</th>\n",
       "      <th>retweeted Tweet</th>\n",
       "      <th>quotedTweet</th>\n",
       "      <th>mentioned Users</th>\n",
       "      <th>language</th>\n",
       "    </tr>\n",
       "  </thead>\n",
       "  <tbody>\n",
       "    <tr>\n",
       "      <th>0</th>\n",
       "      <td>2021-12-30 23:59:47+00:00</td>\n",
       "      <td>1476704601424465921</td>\n",
       "      <td>That's is if we're allowed #Baseball ever agai...</td>\n",
       "      <td>LittlePickles9</td>\n",
       "      <td>0</td>\n",
       "      <td>0</td>\n",
       "      <td>0</td>\n",
       "      <td>0</td>\n",
       "      <td>1476704601424465921</td>\n",
       "      <td>&lt;a href=\"http://twitter.com/download/android\" ...</td>\n",
       "      <td>NaN</td>\n",
       "      <td>https://twitter.com/LittlePickles9/status/1476...</td>\n",
       "      <td>NaN</td>\n",
       "      <td>en</td>\n",
       "    </tr>\n",
       "    <tr>\n",
       "      <th>1</th>\n",
       "      <td>2021-12-30 23:54:30+00:00</td>\n",
       "      <td>1476703271221878793</td>\n",
       "      <td>Joining @RR_RicardoFAN next is @dcone36 to dis...</td>\n",
       "      <td>CBSSportsRadio</td>\n",
       "      <td>0</td>\n",
       "      <td>2</td>\n",
       "      <td>6</td>\n",
       "      <td>0</td>\n",
       "      <td>1476703271221878793</td>\n",
       "      <td>&lt;a href=\"https://mobile.twitter.com\" rel=\"nofo...</td>\n",
       "      <td>NaN</td>\n",
       "      <td>NaN</td>\n",
       "      <td>[User(username='RR_RicardoFAN', id=23912945, d...</td>\n",
       "      <td>en</td>\n",
       "    </tr>\n",
       "    <tr>\n",
       "      <th>2</th>\n",
       "      <td>2021-12-30 23:34:26+00:00</td>\n",
       "      <td>1476698220176814081</td>\n",
       "      <td>When do you think the MLB Lockout is over?</td>\n",
       "      <td>NYYSportsfan96</td>\n",
       "      <td>0</td>\n",
       "      <td>0</td>\n",
       "      <td>0</td>\n",
       "      <td>0</td>\n",
       "      <td>1476698220176814081</td>\n",
       "      <td>&lt;a href=\"https://mobile.twitter.com\" rel=\"nofo...</td>\n",
       "      <td>NaN</td>\n",
       "      <td>NaN</td>\n",
       "      <td>NaN</td>\n",
       "      <td>en</td>\n",
       "    </tr>\n",
       "    <tr>\n",
       "      <th>3</th>\n",
       "      <td>2021-12-30 23:24:16+00:00</td>\n",
       "      <td>1476695662930501633</td>\n",
       "      <td>WHEN IS THE MLB LOCKOUT GOING TO BE OVER ‼️‼️‼...</td>\n",
       "      <td>itstitoo_</td>\n",
       "      <td>0</td>\n",
       "      <td>0</td>\n",
       "      <td>0</td>\n",
       "      <td>0</td>\n",
       "      <td>1476695662930501633</td>\n",
       "      <td>&lt;a href=\"http://twitter.com/download/android\" ...</td>\n",
       "      <td>NaN</td>\n",
       "      <td>NaN</td>\n",
       "      <td>NaN</td>\n",
       "      <td>en</td>\n",
       "    </tr>\n",
       "    <tr>\n",
       "      <th>4</th>\n",
       "      <td>2021-12-30 23:20:33+00:00</td>\n",
       "      <td>1476694729270071302</td>\n",
       "      <td>MLB lockout mailbag: Major sticking points, po...</td>\n",
       "      <td>JenniferHeiner_</td>\n",
       "      <td>0</td>\n",
       "      <td>0</td>\n",
       "      <td>0</td>\n",
       "      <td>0</td>\n",
       "      <td>1476694729270071302</td>\n",
       "      <td>&lt;a href=\"https://dlvrit.com/\" rel=\"nofollow\"&gt;d...</td>\n",
       "      <td>NaN</td>\n",
       "      <td>NaN</td>\n",
       "      <td>NaN</td>\n",
       "      <td>en</td>\n",
       "    </tr>\n",
       "  </tbody>\n",
       "</table>\n",
       "</div>"
      ],
      "text/plain": [
       "                    Datetime             Tweet Id  \\\n",
       "0  2021-12-30 23:59:47+00:00  1476704601424465921   \n",
       "1  2021-12-30 23:54:30+00:00  1476703271221878793   \n",
       "2  2021-12-30 23:34:26+00:00  1476698220176814081   \n",
       "3  2021-12-30 23:24:16+00:00  1476695662930501633   \n",
       "4  2021-12-30 23:20:33+00:00  1476694729270071302   \n",
       "\n",
       "                                                Text         Username  \\\n",
       "0  That's is if we're allowed #Baseball ever agai...   LittlePickles9   \n",
       "1  Joining @RR_RicardoFAN next is @dcone36 to dis...   CBSSportsRadio   \n",
       "2         When do you think the MLB Lockout is over?   NYYSportsfan96   \n",
       "3  WHEN IS THE MLB LOCKOUT GOING TO BE OVER ‼️‼️‼...        itstitoo_   \n",
       "4  MLB lockout mailbag: Major sticking points, po...  JenniferHeiner_   \n",
       "\n",
       "   Reply Count  Retweet Count  Like Count  tweetquote Count  \\\n",
       "0            0              0           0                 0   \n",
       "1            0              2           6                 0   \n",
       "2            0              0           0                 0   \n",
       "3            0              0           0                 0   \n",
       "4            0              0           0                 0   \n",
       "\n",
       "       conversation ID                                             source  \\\n",
       "0  1476704601424465921  <a href=\"http://twitter.com/download/android\" ...   \n",
       "1  1476703271221878793  <a href=\"https://mobile.twitter.com\" rel=\"nofo...   \n",
       "2  1476698220176814081  <a href=\"https://mobile.twitter.com\" rel=\"nofo...   \n",
       "3  1476695662930501633  <a href=\"http://twitter.com/download/android\" ...   \n",
       "4  1476694729270071302  <a href=\"https://dlvrit.com/\" rel=\"nofollow\">d...   \n",
       "\n",
       "   retweeted Tweet                                        quotedTweet  \\\n",
       "0              NaN  https://twitter.com/LittlePickles9/status/1476...   \n",
       "1              NaN                                                NaN   \n",
       "2              NaN                                                NaN   \n",
       "3              NaN                                                NaN   \n",
       "4              NaN                                                NaN   \n",
       "\n",
       "                                     mentioned Users language  \n",
       "0                                                NaN       en  \n",
       "1  [User(username='RR_RicardoFAN', id=23912945, d...       en  \n",
       "2                                                NaN       en  \n",
       "3                                                NaN       en  \n",
       "4                                                NaN       en  "
      ]
     },
     "execution_count": 127,
     "metadata": {},
     "output_type": "execute_result"
    }
   ],
   "source": [
    "mlb[0].head()"
   ]
  },
  {
   "cell_type": "markdown",
   "metadata": {},
   "source": [
    "# 2. Tidying the data"
   ]
  },
  {
   "cell_type": "markdown",
   "metadata": {},
   "source": [
    "## 2.1 Limiting to only english tweets"
   ]
  },
  {
   "cell_type": "code",
   "execution_count": 128,
   "metadata": {},
   "outputs": [],
   "source": [
    "eng_only = []\n",
    "for df in mlb:\n",
    "    eng_only.append(df[df.language == \"en\"])"
   ]
  },
  {
   "cell_type": "markdown",
   "metadata": {},
   "source": [
    "## 2.2 Focusing on only text"
   ]
  },
  {
   "cell_type": "code",
   "execution_count": 129,
   "metadata": {},
   "outputs": [],
   "source": [
    "texts = []\n",
    "for month in eng_only:\n",
    "    texts += [text for text in month.Text]"
   ]
  },
  {
   "cell_type": "code",
   "execution_count": 130,
   "metadata": {},
   "outputs": [
    {
     "data": {
      "text/plain": [
       "41243"
      ]
     },
     "execution_count": 130,
     "metadata": {},
     "output_type": "execute_result"
    }
   ],
   "source": [
    "len(texts)"
   ]
  },
  {
   "cell_type": "code",
   "execution_count": 131,
   "metadata": {},
   "outputs": [
    {
     "data": {
      "text/plain": [
       "'Joining @RR_RicardoFAN next is @dcone36 to discuss when the MLB lockout needs to end to get the season started on time, get his reaction to a few offseason signings &amp; more!\\n\\nListen Live: https://t.co/d1K0UWkr6D https://t.co/98wvhsGnZN'"
      ]
     },
     "execution_count": 131,
     "metadata": {},
     "output_type": "execute_result"
    }
   ],
   "source": [
    "eng_only[0].iloc[1].Text"
   ]
  },
  {
   "cell_type": "markdown",
   "metadata": {},
   "source": [
    "## 2.3 tidy text"
   ]
  },
  {
   "cell_type": "markdown",
   "metadata": {},
   "source": [
    "1. Transform all text to lower case\n",
    "2. Remove urls and punctuation marks, including \n",
    "    - urls\n",
    "    - extract hashtag marks # (stored apart for potential use, the hashtag itself will be removed later )\n",
    "    - extract mention marks @ (stored apart for potential use, the hashtag itself will be removed later)\n",
    "    - all remaining punctuation marks\n",
    "3. Remove stop words\n",
    "4. Transform strings into (set) vectors of words"
   ]
  },
  {
   "cell_type": "markdown",
   "metadata": {},
   "source": [
    "### 2.3.1 Text to lower case"
   ]
  },
  {
   "cell_type": "code",
   "execution_count": 132,
   "metadata": {},
   "outputs": [],
   "source": [
    "lower_case_text = [text.lower() for text in texts]"
   ]
  },
  {
   "cell_type": "markdown",
   "metadata": {},
   "source": [
    "### 2.3.2 Remove punctuations and url"
   ]
  },
  {
   "cell_type": "markdown",
   "metadata": {},
   "source": [
    "**2.3.2.1 Remove URLs**"
   ]
  },
  {
   "cell_type": "code",
   "execution_count": 133,
   "metadata": {},
   "outputs": [
    {
     "name": "stdout",
     "output_type": "stream",
     "text": [
      "that's is if we're allowed #baseball ever again...\n",
      "#mlb #lockout https://t.co/wyucn4jej8\n",
      "that's is if we're allowed #baseball ever again...\n",
      "#mlb #lockout  \n"
     ]
    }
   ],
   "source": [
    "# test\n",
    "print (lower_case_text[0])\n",
    "print(dc.remove_urls(lower_case_text[0]))"
   ]
  },
  {
   "cell_type": "code",
   "execution_count": 134,
   "metadata": {},
   "outputs": [
    {
     "data": {
      "text/plain": [
       "'joining @rr_ricardofan next is @dcone36 to discuss when the mlb lockout needs to end to get the season started on time, get his reaction to a few offseason signings &amp; more!\\n\\nlisten live:    '"
      ]
     },
     "execution_count": 134,
     "metadata": {},
     "output_type": "execute_result"
    }
   ],
   "source": [
    "no_urls = [dc.remove_urls(text) for text in lower_case_text]\n",
    "no_urls[1]"
   ]
  },
  {
   "cell_type": "markdown",
   "metadata": {},
   "source": [
    "**2.3.2.2 Extract hashtags and mentions**"
   ]
  },
  {
   "cell_type": "code",
   "execution_count": 135,
   "metadata": {},
   "outputs": [],
   "source": [
    "hashtags = [dc.retrieve_hashtag(text) for text in no_urls]\n",
    "mentions = [dc.retrieve_mentions(text) for text in no_urls]\n"
   ]
  },
  {
   "cell_type": "code",
   "execution_count": 136,
   "metadata": {},
   "outputs": [
    {
     "name": "stdout",
     "output_type": "stream",
     "text": [
      "['#baseball', '#mlb', '#lockout']\n",
      "['@rr_ricardofan', '@dcone36']\n"
     ]
    }
   ],
   "source": [
    "print(hashtags[0])\n",
    "print(mentions[1])"
   ]
  },
  {
   "cell_type": "markdown",
   "metadata": {},
   "source": [
    "**2.3.2.3 Remove other punctuations**"
   ]
  },
  {
   "cell_type": "code",
   "execution_count": 137,
   "metadata": {},
   "outputs": [
    {
     "name": "stdout",
     "output_type": "stream",
     "text": [
      "that's is if we're allowed #baseball ever again...\n",
      "#mlb #lockout  \n",
      "that is if we allowed baseball ever again mlb lockout\n"
     ]
    }
   ],
   "source": [
    "#test\n",
    "print(no_urls[0])\n",
    "print(dc.remove_punctuations(no_urls[0]))"
   ]
  },
  {
   "cell_type": "code",
   "execution_count": 138,
   "metadata": {},
   "outputs": [],
   "source": [
    "no_punctuations = [dc.remove_punctuations(text) for text in no_urls]\n"
   ]
  },
  {
   "cell_type": "code",
   "execution_count": 139,
   "metadata": {},
   "outputs": [
    {
     "data": {
      "text/plain": [
       "['that is if we allowed baseball ever again mlb lockout',\n",
       " 'joining rr_ricardofan next is dcone36 to discuss when the mlb lockout needs to end to get the season started on time get his reaction to a few offseason signings more listen live',\n",
       " 'when do you think the mlb lockout is over',\n",
       " 'when is the mlb lockout going to be over',\n",
       " 'mlb lockout mailbag major sticking points potential spring training delays minor players and more']"
      ]
     },
     "execution_count": 139,
     "metadata": {},
     "output_type": "execute_result"
    }
   ],
   "source": [
    "no_punctuations[:5]"
   ]
  },
  {
   "cell_type": "markdown",
   "metadata": {},
   "source": [
    "### 2.3.3 Removing Stop Words"
   ]
  },
  {
   "cell_type": "code",
   "execution_count": 140,
   "metadata": {},
   "outputs": [
    {
     "data": {
      "text/plain": [
       "'that is if we allowed baseball ever again mlb lockout'"
      ]
     },
     "execution_count": 140,
     "metadata": {},
     "output_type": "execute_result"
    }
   ],
   "source": [
    "no_punctuations[0]"
   ]
  },
  {
   "cell_type": "code",
   "execution_count": 141,
   "metadata": {},
   "outputs": [
    {
     "data": {
      "text/plain": [
       "'allowed baseball ever mlb lockout'"
      ]
     },
     "execution_count": 141,
     "metadata": {},
     "output_type": "execute_result"
    }
   ],
   "source": [
    "dc.remove_stopwords(no_punctuations[0])"
   ]
  },
  {
   "cell_type": "code",
   "execution_count": 142,
   "metadata": {},
   "outputs": [],
   "source": [
    "cleaned = [dc.remove_stopwords(text) for text in no_punctuations]"
   ]
  },
  {
   "cell_type": "code",
   "execution_count": 143,
   "metadata": {},
   "outputs": [
    {
     "data": {
      "text/plain": [
       "['allowed baseball ever mlb lockout',\n",
       " 'joining rr_ricardofan next dcone36 discuss mlb lockout needs end get season started time get reaction offseason signings listen live',\n",
       " 'think mlb lockout',\n",
       " 'mlb lockout going',\n",
       " 'mlb lockout mailbag major sticking points potential spring training delays minor players']"
      ]
     },
     "execution_count": 143,
     "metadata": {},
     "output_type": "execute_result"
    }
   ],
   "source": [
    "cleaned[:5]"
   ]
  },
  {
   "cell_type": "markdown",
   "metadata": {},
   "source": [
    "### 2.3.4  Transform strings into (set) vectors of words"
   ]
  },
  {
   "cell_type": "code",
   "execution_count": 144,
   "metadata": {},
   "outputs": [],
   "source": [
    "text_sets_list = [list(set(text.split())) for text in cleaned]"
   ]
  },
  {
   "cell_type": "code",
   "execution_count": 145,
   "metadata": {},
   "outputs": [
    {
     "data": {
      "text/plain": [
       "[['baseball', 'lockout', 'mlb', 'ever', 'allowed'],\n",
       " ['rr_ricardofan',\n",
       "  'lockout',\n",
       "  'started',\n",
       "  'needs',\n",
       "  'dcone36',\n",
       "  'reaction',\n",
       "  'offseason',\n",
       "  'end',\n",
       "  'signings',\n",
       "  'time',\n",
       "  'discuss',\n",
       "  'live',\n",
       "  'season',\n",
       "  'listen',\n",
       "  'mlb',\n",
       "  'get',\n",
       "  'next',\n",
       "  'joining'],\n",
       " ['mlb', 'think', 'lockout'],\n",
       " ['mlb', 'lockout', 'going'],\n",
       " ['sticking',\n",
       "  'lockout',\n",
       "  'points',\n",
       "  'players',\n",
       "  'training',\n",
       "  'potential',\n",
       "  'minor',\n",
       "  'spring',\n",
       "  'delays',\n",
       "  'major',\n",
       "  'mlb',\n",
       "  'mailbag']]"
      ]
     },
     "execution_count": 145,
     "metadata": {},
     "output_type": "execute_result"
    }
   ],
   "source": [
    "text_sets_list[:5]"
   ]
  },
  {
   "cell_type": "markdown",
   "metadata": {},
   "source": [
    "# 3 Store tidied data"
   ]
  },
  {
   "cell_type": "code",
   "execution_count": 146,
   "metadata": {},
   "outputs": [],
   "source": [
    "tidied_text_added_df = pd.concat([eng_only[i] for i in range(4)])"
   ]
  },
  {
   "cell_type": "code",
   "execution_count": 147,
   "metadata": {},
   "outputs": [
    {
     "data": {
      "text/plain": [
       "41243"
      ]
     },
     "execution_count": 147,
     "metadata": {},
     "output_type": "execute_result"
    }
   ],
   "source": [
    "len(tidied_text_added_df)"
   ]
  },
  {
   "cell_type": "code",
   "execution_count": 148,
   "metadata": {},
   "outputs": [],
   "source": [
    "tidied_text_added_df[\"hashtag\"] = hashtags\n",
    "tidied_text_added_df[\"mentioned\"] = mentions\n",
    "tidied_text_added_df[\"cleaned_text\"] = cleaned\n",
    "tidied_text_added_df[\"cleaned_text_list\"] = text_sets_list\n"
   ]
  },
  {
   "cell_type": "code",
   "execution_count": 149,
   "metadata": {},
   "outputs": [
    {
     "data": {
      "text/html": [
       "<div>\n",
       "<style scoped>\n",
       "    .dataframe tbody tr th:only-of-type {\n",
       "        vertical-align: middle;\n",
       "    }\n",
       "\n",
       "    .dataframe tbody tr th {\n",
       "        vertical-align: top;\n",
       "    }\n",
       "\n",
       "    .dataframe thead th {\n",
       "        text-align: right;\n",
       "    }\n",
       "</style>\n",
       "<table border=\"1\" class=\"dataframe\">\n",
       "  <thead>\n",
       "    <tr style=\"text-align: right;\">\n",
       "      <th></th>\n",
       "      <th>Text</th>\n",
       "      <th>mentioned</th>\n",
       "      <th>hashtag</th>\n",
       "      <th>cleaned_text</th>\n",
       "      <th>cleaned_text_list</th>\n",
       "    </tr>\n",
       "  </thead>\n",
       "  <tbody>\n",
       "    <tr>\n",
       "      <th>0</th>\n",
       "      <td>That's is if we're allowed #Baseball ever agai...</td>\n",
       "      <td>[]</td>\n",
       "      <td>[#baseball, #mlb, #lockout]</td>\n",
       "      <td>allowed baseball ever mlb lockout</td>\n",
       "      <td>[baseball, lockout, mlb, ever, allowed]</td>\n",
       "    </tr>\n",
       "    <tr>\n",
       "      <th>1</th>\n",
       "      <td>Joining @RR_RicardoFAN next is @dcone36 to dis...</td>\n",
       "      <td>[@rr_ricardofan, @dcone36]</td>\n",
       "      <td>[]</td>\n",
       "      <td>joining rr_ricardofan next dcone36 discuss mlb...</td>\n",
       "      <td>[rr_ricardofan, lockout, started, needs, dcone...</td>\n",
       "    </tr>\n",
       "    <tr>\n",
       "      <th>2</th>\n",
       "      <td>When do you think the MLB Lockout is over?</td>\n",
       "      <td>[]</td>\n",
       "      <td>[]</td>\n",
       "      <td>think mlb lockout</td>\n",
       "      <td>[mlb, think, lockout]</td>\n",
       "    </tr>\n",
       "    <tr>\n",
       "      <th>3</th>\n",
       "      <td>WHEN IS THE MLB LOCKOUT GOING TO BE OVER ‼️‼️‼...</td>\n",
       "      <td>[]</td>\n",
       "      <td>[]</td>\n",
       "      <td>mlb lockout going</td>\n",
       "      <td>[mlb, lockout, going]</td>\n",
       "    </tr>\n",
       "    <tr>\n",
       "      <th>4</th>\n",
       "      <td>MLB lockout mailbag: Major sticking points, po...</td>\n",
       "      <td>[]</td>\n",
       "      <td>[]</td>\n",
       "      <td>mlb lockout mailbag major sticking points pote...</td>\n",
       "      <td>[sticking, lockout, points, players, training,...</td>\n",
       "    </tr>\n",
       "  </tbody>\n",
       "</table>\n",
       "</div>"
      ],
      "text/plain": [
       "                                                Text  \\\n",
       "0  That's is if we're allowed #Baseball ever agai...   \n",
       "1  Joining @RR_RicardoFAN next is @dcone36 to dis...   \n",
       "2         When do you think the MLB Lockout is over?   \n",
       "3  WHEN IS THE MLB LOCKOUT GOING TO BE OVER ‼️‼️‼...   \n",
       "4  MLB lockout mailbag: Major sticking points, po...   \n",
       "\n",
       "                    mentioned                      hashtag  \\\n",
       "0                          []  [#baseball, #mlb, #lockout]   \n",
       "1  [@rr_ricardofan, @dcone36]                           []   \n",
       "2                          []                           []   \n",
       "3                          []                           []   \n",
       "4                          []                           []   \n",
       "\n",
       "                                        cleaned_text  \\\n",
       "0                  allowed baseball ever mlb lockout   \n",
       "1  joining rr_ricardofan next dcone36 discuss mlb...   \n",
       "2                                  think mlb lockout   \n",
       "3                                  mlb lockout going   \n",
       "4  mlb lockout mailbag major sticking points pote...   \n",
       "\n",
       "                                   cleaned_text_list  \n",
       "0            [baseball, lockout, mlb, ever, allowed]  \n",
       "1  [rr_ricardofan, lockout, started, needs, dcone...  \n",
       "2                              [mlb, think, lockout]  \n",
       "3                              [mlb, lockout, going]  \n",
       "4  [sticking, lockout, points, players, training,...  "
      ]
     },
     "execution_count": 149,
     "metadata": {},
     "output_type": "execute_result"
    }
   ],
   "source": [
    "tidied_text_added_df[[\"Text\",\"mentioned\",\"hashtag\",\"cleaned_text\",\"cleaned_text_list\"]].head()"
   ]
  },
  {
   "cell_type": "code",
   "execution_count": 150,
   "metadata": {},
   "outputs": [],
   "source": [
    "path = os.path.abspath(\"../data/tidied_text_added.csv\")\n",
    "tidied_text_added_df.to_csv(path)"
   ]
  }
 ],
 "metadata": {
  "interpreter": {
   "hash": "a75188dc68140c4ae572726a6a72cb51eeeeac5b07356032e4f35544098a9a27"
  },
  "kernelspec": {
   "display_name": "Python 3.8.5 ('base')",
   "language": "python",
   "name": "python3"
  },
  "language_info": {
   "codemirror_mode": {
    "name": "ipython",
    "version": 3
   },
   "file_extension": ".py",
   "mimetype": "text/x-python",
   "name": "python",
   "nbconvert_exporter": "python",
   "pygments_lexer": "ipython3",
   "version": "3.8.5"
  },
  "orig_nbformat": 4
 },
 "nbformat": 4,
 "nbformat_minor": 2
}
