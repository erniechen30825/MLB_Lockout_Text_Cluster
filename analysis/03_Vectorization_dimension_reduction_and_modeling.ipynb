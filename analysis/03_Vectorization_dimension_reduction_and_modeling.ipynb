{
 "cells": [
  {
   "cell_type": "markdown",
   "metadata": {},
   "source": [
    "# 0. Importing data and Libraries"
   ]
  },
  {
   "cell_type": "code",
   "execution_count": 20,
   "metadata": {},
   "outputs": [],
   "source": [
    "import pandas as pd\n",
    "from sklearn.feature_extraction.text import TfidfVectorizer\n",
    "from sklearn.cluster import KMeans\n",
    "from sklearn.preprocessing import StandardScaler\n",
    "from sklearn.decomposition import PCA\n"
   ]
  },
  {
   "cell_type": "code",
   "execution_count": 10,
   "metadata": {},
   "outputs": [],
   "source": [
    "sys.path.insert(0, \"../functions\")\n",
    "#self defined functions\n",
    "import data_processing as dp"
   ]
  },
  {
   "cell_type": "code",
   "execution_count": 3,
   "metadata": {},
   "outputs": [],
   "source": [
    "mlb = pd.read_csv(\"../data/tidied_text_added.csv\")\n"
   ]
  },
  {
   "cell_type": "code",
   "execution_count": 4,
   "metadata": {},
   "outputs": [
    {
     "data": {
      "text/html": [
       "<div>\n",
       "<style scoped>\n",
       "    .dataframe tbody tr th:only-of-type {\n",
       "        vertical-align: middle;\n",
       "    }\n",
       "\n",
       "    .dataframe tbody tr th {\n",
       "        vertical-align: top;\n",
       "    }\n",
       "\n",
       "    .dataframe thead th {\n",
       "        text-align: right;\n",
       "    }\n",
       "</style>\n",
       "<table border=\"1\" class=\"dataframe\">\n",
       "  <thead>\n",
       "    <tr style=\"text-align: right;\">\n",
       "      <th></th>\n",
       "      <th>Unnamed: 0</th>\n",
       "      <th>Datetime</th>\n",
       "      <th>Tweet Id</th>\n",
       "      <th>Text</th>\n",
       "      <th>Username</th>\n",
       "      <th>Reply Count</th>\n",
       "      <th>Retweet Count</th>\n",
       "      <th>Like Count</th>\n",
       "      <th>tweetquote Count</th>\n",
       "      <th>conversation ID</th>\n",
       "      <th>source</th>\n",
       "      <th>retweeted Tweet</th>\n",
       "      <th>quotedTweet</th>\n",
       "      <th>mentioned Users</th>\n",
       "      <th>language</th>\n",
       "      <th>hashtag</th>\n",
       "      <th>mentioned</th>\n",
       "      <th>cleaned_text</th>\n",
       "      <th>cleaned_text_list</th>\n",
       "    </tr>\n",
       "  </thead>\n",
       "  <tbody>\n",
       "    <tr>\n",
       "      <th>0</th>\n",
       "      <td>0</td>\n",
       "      <td>2021-12-30 23:59:47+00:00</td>\n",
       "      <td>1476704601424465921</td>\n",
       "      <td>That's is if we're allowed #Baseball ever agai...</td>\n",
       "      <td>LittlePickles9</td>\n",
       "      <td>0</td>\n",
       "      <td>0</td>\n",
       "      <td>0</td>\n",
       "      <td>0</td>\n",
       "      <td>1476704601424465921</td>\n",
       "      <td>&lt;a href=\"http://twitter.com/download/android\" ...</td>\n",
       "      <td>NaN</td>\n",
       "      <td>https://twitter.com/LittlePickles9/status/1476...</td>\n",
       "      <td>NaN</td>\n",
       "      <td>en</td>\n",
       "      <td>['#baseball', '#mlb', '#lockout']</td>\n",
       "      <td>[]</td>\n",
       "      <td>allowed baseball ever mlb lockout</td>\n",
       "      <td>['ever', 'baseball', 'lockout', 'allow', 'mlb']</td>\n",
       "    </tr>\n",
       "    <tr>\n",
       "      <th>1</th>\n",
       "      <td>1</td>\n",
       "      <td>2021-12-30 23:54:30+00:00</td>\n",
       "      <td>1476703271221878793</td>\n",
       "      <td>Joining @RR_RicardoFAN next is @dcone36 to dis...</td>\n",
       "      <td>CBSSportsRadio</td>\n",
       "      <td>0</td>\n",
       "      <td>2</td>\n",
       "      <td>6</td>\n",
       "      <td>0</td>\n",
       "      <td>1476703271221878793</td>\n",
       "      <td>&lt;a href=\"https://mobile.twitter.com\" rel=\"nofo...</td>\n",
       "      <td>NaN</td>\n",
       "      <td>NaN</td>\n",
       "      <td>[User(username='RR_RicardoFAN', id=23912945, d...</td>\n",
       "      <td>en</td>\n",
       "      <td>[]</td>\n",
       "      <td>['@rr_ricardofan', '@dcone36']</td>\n",
       "      <td>joining rr_ricardofan next dcone36 discuss mlb...</td>\n",
       "      <td>['need', 'join', 'discuss', 'start', 'time', '...</td>\n",
       "    </tr>\n",
       "    <tr>\n",
       "      <th>2</th>\n",
       "      <td>2</td>\n",
       "      <td>2021-12-30 23:34:26+00:00</td>\n",
       "      <td>1476698220176814081</td>\n",
       "      <td>When do you think the MLB Lockout is over?</td>\n",
       "      <td>NYYSportsfan96</td>\n",
       "      <td>0</td>\n",
       "      <td>0</td>\n",
       "      <td>0</td>\n",
       "      <td>0</td>\n",
       "      <td>1476698220176814081</td>\n",
       "      <td>&lt;a href=\"https://mobile.twitter.com\" rel=\"nofo...</td>\n",
       "      <td>NaN</td>\n",
       "      <td>NaN</td>\n",
       "      <td>NaN</td>\n",
       "      <td>en</td>\n",
       "      <td>[]</td>\n",
       "      <td>[]</td>\n",
       "      <td>think mlb lockout</td>\n",
       "      <td>['lockout', 'think', 'mlb']</td>\n",
       "    </tr>\n",
       "    <tr>\n",
       "      <th>3</th>\n",
       "      <td>3</td>\n",
       "      <td>2021-12-30 23:24:16+00:00</td>\n",
       "      <td>1476695662930501633</td>\n",
       "      <td>WHEN IS THE MLB LOCKOUT GOING TO BE OVER ‼️‼️‼...</td>\n",
       "      <td>itstitoo_</td>\n",
       "      <td>0</td>\n",
       "      <td>0</td>\n",
       "      <td>0</td>\n",
       "      <td>0</td>\n",
       "      <td>1476695662930501633</td>\n",
       "      <td>&lt;a href=\"http://twitter.com/download/android\" ...</td>\n",
       "      <td>NaN</td>\n",
       "      <td>NaN</td>\n",
       "      <td>NaN</td>\n",
       "      <td>en</td>\n",
       "      <td>[]</td>\n",
       "      <td>[]</td>\n",
       "      <td>mlb lockout going</td>\n",
       "      <td>['lockout', 'mlb', 'go']</td>\n",
       "    </tr>\n",
       "    <tr>\n",
       "      <th>4</th>\n",
       "      <td>4</td>\n",
       "      <td>2021-12-30 23:20:33+00:00</td>\n",
       "      <td>1476694729270071302</td>\n",
       "      <td>MLB lockout mailbag: Major sticking points, po...</td>\n",
       "      <td>JenniferHeiner_</td>\n",
       "      <td>0</td>\n",
       "      <td>0</td>\n",
       "      <td>0</td>\n",
       "      <td>0</td>\n",
       "      <td>1476694729270071302</td>\n",
       "      <td>&lt;a href=\"https://dlvrit.com/\" rel=\"nofollow\"&gt;d...</td>\n",
       "      <td>NaN</td>\n",
       "      <td>NaN</td>\n",
       "      <td>NaN</td>\n",
       "      <td>en</td>\n",
       "      <td>[]</td>\n",
       "      <td>[]</td>\n",
       "      <td>mlb lockout mailbag major sticking points pote...</td>\n",
       "      <td>['point', 'train', 'stick', 'delay', 'mailbag'...</td>\n",
       "    </tr>\n",
       "  </tbody>\n",
       "</table>\n",
       "</div>"
      ],
      "text/plain": [
       "   Unnamed: 0                   Datetime             Tweet Id  \\\n",
       "0           0  2021-12-30 23:59:47+00:00  1476704601424465921   \n",
       "1           1  2021-12-30 23:54:30+00:00  1476703271221878793   \n",
       "2           2  2021-12-30 23:34:26+00:00  1476698220176814081   \n",
       "3           3  2021-12-30 23:24:16+00:00  1476695662930501633   \n",
       "4           4  2021-12-30 23:20:33+00:00  1476694729270071302   \n",
       "\n",
       "                                                Text         Username  \\\n",
       "0  That's is if we're allowed #Baseball ever agai...   LittlePickles9   \n",
       "1  Joining @RR_RicardoFAN next is @dcone36 to dis...   CBSSportsRadio   \n",
       "2         When do you think the MLB Lockout is over?   NYYSportsfan96   \n",
       "3  WHEN IS THE MLB LOCKOUT GOING TO BE OVER ‼️‼️‼...        itstitoo_   \n",
       "4  MLB lockout mailbag: Major sticking points, po...  JenniferHeiner_   \n",
       "\n",
       "   Reply Count  Retweet Count  Like Count  tweetquote Count  \\\n",
       "0            0              0           0                 0   \n",
       "1            0              2           6                 0   \n",
       "2            0              0           0                 0   \n",
       "3            0              0           0                 0   \n",
       "4            0              0           0                 0   \n",
       "\n",
       "       conversation ID                                             source  \\\n",
       "0  1476704601424465921  <a href=\"http://twitter.com/download/android\" ...   \n",
       "1  1476703271221878793  <a href=\"https://mobile.twitter.com\" rel=\"nofo...   \n",
       "2  1476698220176814081  <a href=\"https://mobile.twitter.com\" rel=\"nofo...   \n",
       "3  1476695662930501633  <a href=\"http://twitter.com/download/android\" ...   \n",
       "4  1476694729270071302  <a href=\"https://dlvrit.com/\" rel=\"nofollow\">d...   \n",
       "\n",
       "   retweeted Tweet                                        quotedTweet  \\\n",
       "0              NaN  https://twitter.com/LittlePickles9/status/1476...   \n",
       "1              NaN                                                NaN   \n",
       "2              NaN                                                NaN   \n",
       "3              NaN                                                NaN   \n",
       "4              NaN                                                NaN   \n",
       "\n",
       "                                     mentioned Users language  \\\n",
       "0                                                NaN       en   \n",
       "1  [User(username='RR_RicardoFAN', id=23912945, d...       en   \n",
       "2                                                NaN       en   \n",
       "3                                                NaN       en   \n",
       "4                                                NaN       en   \n",
       "\n",
       "                             hashtag                       mentioned  \\\n",
       "0  ['#baseball', '#mlb', '#lockout']                              []   \n",
       "1                                 []  ['@rr_ricardofan', '@dcone36']   \n",
       "2                                 []                              []   \n",
       "3                                 []                              []   \n",
       "4                                 []                              []   \n",
       "\n",
       "                                        cleaned_text  \\\n",
       "0                  allowed baseball ever mlb lockout   \n",
       "1  joining rr_ricardofan next dcone36 discuss mlb...   \n",
       "2                                  think mlb lockout   \n",
       "3                                  mlb lockout going   \n",
       "4  mlb lockout mailbag major sticking points pote...   \n",
       "\n",
       "                                   cleaned_text_list  \n",
       "0    ['ever', 'baseball', 'lockout', 'allow', 'mlb']  \n",
       "1  ['need', 'join', 'discuss', 'start', 'time', '...  \n",
       "2                        ['lockout', 'think', 'mlb']  \n",
       "3                           ['lockout', 'mlb', 'go']  \n",
       "4  ['point', 'train', 'stick', 'delay', 'mailbag'...  "
      ]
     },
     "execution_count": 4,
     "metadata": {},
     "output_type": "execute_result"
    }
   ],
   "source": [
    "mlb.head()"
   ]
  },
  {
   "cell_type": "markdown",
   "metadata": {},
   "source": [
    "# 1. tf-idf vectorization"
   ]
  },
  {
   "cell_type": "code",
   "execution_count": 13,
   "metadata": {},
   "outputs": [],
   "source": [
    "# removing words that are overwhemenly existing in the text\n",
    "common_words_removed = [dp.remove_stopwords(sentence, [\"mlb\", \"lockout\", \"mlblockout\"])\n",
    " for sentence in mlb.cleaned_text]\n"
   ]
  },
  {
   "cell_type": "code",
   "execution_count": 14,
   "metadata": {},
   "outputs": [],
   "source": [
    "# initialize the vectorizer\n",
    "vectorizer = TfidfVectorizer(sublinear_tf=True, min_df=5, max_df=0.95)\n",
    "# fit_transform applies TF-IDF to clean texts - we save the array of vectors in X\n",
    "X = vectorizer.fit_transform(common_words_removed)\n"
   ]
  },
  {
   "cell_type": "code",
   "execution_count": 15,
   "metadata": {},
   "outputs": [
    {
     "data": {
      "text/plain": [
       "(41243, 7590)"
      ]
     },
     "execution_count": 15,
     "metadata": {},
     "output_type": "execute_result"
    }
   ],
   "source": [
    "X.shape"
   ]
  },
  {
   "cell_type": "markdown",
   "metadata": {},
   "source": [
    "# 2. Dimension Reduction and Kmeans"
   ]
  },
  {
   "cell_type": "markdown",
   "metadata": {},
   "source": [
    "## Linear: PCA"
   ]
  },
  {
   "cell_type": "markdown",
   "metadata": {},
   "source": [
    "**Deciding number of Principle Components**"
   ]
  },
  {
   "cell_type": "code",
   "execution_count": 19,
   "metadata": {},
   "outputs": [],
   "source": [
    "# initialize PCA with 2 components\n",
    "pca = PCA(n_components=2, random_state=24)\n",
    "# pass our X to the pca and store the reduced vectors into pca_vecs\n",
    "pca_vecs = pca.fit_transform(X.toarray())\n",
    "# save our two dimensions into x0 and x1\n",
    "x0 = pca_vecs[:, 0]\n",
    "x1 = pca_vecs[:, 1]"
   ]
  },
  {
   "cell_type": "code",
   "execution_count": null,
   "metadata": {},
   "outputs": [],
   "source": []
  }
 ],
 "metadata": {
  "interpreter": {
   "hash": "a75188dc68140c4ae572726a6a72cb51eeeeac5b07356032e4f35544098a9a27"
  },
  "kernelspec": {
   "display_name": "Python 3.8.5 ('base')",
   "language": "python",
   "name": "python3"
  },
  "language_info": {
   "codemirror_mode": {
    "name": "ipython",
    "version": 3
   },
   "file_extension": ".py",
   "mimetype": "text/x-python",
   "name": "python",
   "nbconvert_exporter": "python",
   "pygments_lexer": "ipython3",
   "version": "3.8.5"
  },
  "orig_nbformat": 4
 },
 "nbformat": 4,
 "nbformat_minor": 2
}
